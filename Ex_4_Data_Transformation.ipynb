{
 "cells": [
  {
   "cell_type": "code",
   "execution_count": 6,
   "metadata": {},
   "outputs": [
    {
     "name": "stdout",
     "output_type": "stream",
     "text": [
      "min-max normalisation\n",
      "Normalised data of author_average_rating\n",
      "[[0.68867925]\n",
      " [0.7327044 ]\n",
      " [0.68553459]\n",
      " ...\n",
      " [0.68553459]\n",
      " [0.74842767]\n",
      " [0.70754717]]\n",
      "Normalised data of book_average_rating\n",
      "[[0.804]\n",
      " [0.826]\n",
      " [0.798]\n",
      " ...\n",
      " [0.746]\n",
      " [0.778]\n",
      " [0.914]]\n",
      "Normalised data of score\n",
      "[[0.00530746]\n",
      " [0.00502662]\n",
      " [0.00757253]\n",
      " ...\n",
      " [0.00271474]\n",
      " [0.00307916]\n",
      " [0.00534089]]\n",
      "Z-Score normalisation\n",
      "Normalised data of author_average_rating\n",
      "[0.20644115 0.7887654  0.16484656 ... 0.16484656 0.99673834 0.45600869]\n",
      "book_average_rating\n",
      "[ 0.23529485  0.61289822  0.13231211 ... -0.76020494 -0.21096368\n",
      "  2.1233117 ]\n",
      "Normalised data of score\n",
      "[-0.06015622 -0.07539877  0.06278221 ... -0.20087762 -0.1810986\n",
      " -0.05834163]\n"
     ]
    },
    {
     "name": "stderr",
     "output_type": "stream",
     "text": [
      "C:\\Users\\mukes\\Anaconda3\\lib\\site-packages\\sklearn\\preprocessing\\data.py:323: DataConversionWarning: Data with input dtype int64 were all converted to float64 by MinMaxScaler.\n",
      "  return self.partial_fit(X, y)\n"
     ]
    }
   ],
   "source": [
    "import pandas as pd\n",
    "import numpy as np\n",
    "from sklearn.preprocessing import MinMaxScaler\n",
    "from scipy import stats\n",
    "data=pd.read_csv('D:/Data Analysis/good_reads_final.csv')\n",
    "df = pd.DataFrame(data)\n",
    "min_max=MinMaxScaler()\n",
    "print(\"min-max normalisation\")\n",
    "print(\"Normalised data of author_average_rating\")\n",
    "print(min_max.fit_transform(df[['author_average_rating']]))\n",
    "print(\"Normalised data of book_average_rating\")\n",
    "print(min_max.fit_transform(df[['book_average_rating']]))\n",
    "print(\"Normalised data of score\")\n",
    "print(min_max.fit_transform(df[['score']]))\n",
    "\n",
    "\n",
    "print(\"Z-Score normalisation\")\n",
    "print(\"Normalised data of author_average_rating\")\n",
    "a=np.array(df['author_average_rating'])\n",
    "print(stats.zscore(a))\n",
    "print(\"book_average_rating\")\n",
    "b=np.array(df['book_average_rating'])\n",
    "print(stats.zscore(b))\n",
    "print(\"Normalised data of score\")\n",
    "c=np.array(df['score'])\n",
    "print(stats.zscore(c))"
   ]
  },
  {
   "cell_type": "code",
   "execution_count": null,
   "metadata": {},
   "outputs": [],
   "source": []
  }
 ],
 "metadata": {
  "kernelspec": {
   "display_name": "Python 3",
   "language": "python",
   "name": "python3"
  },
  "language_info": {
   "codemirror_mode": {
    "name": "ipython",
    "version": 3
   },
   "file_extension": ".py",
   "mimetype": "text/x-python",
   "name": "python",
   "nbconvert_exporter": "python",
   "pygments_lexer": "ipython3",
   "version": "3.7.1"
  }
 },
 "nbformat": 4,
 "nbformat_minor": 2
}
