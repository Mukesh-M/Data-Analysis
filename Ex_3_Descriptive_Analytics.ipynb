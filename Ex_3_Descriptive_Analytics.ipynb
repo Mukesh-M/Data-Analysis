{
 "cells": [
  {
   "cell_type": "code",
   "execution_count": 6,
   "metadata": {},
   "outputs": [
    {
     "name": "stdout",
     "output_type": "stream",
     "text": [
      " Arithmetic Mean of author_average_rating\n",
      "3.9603682670044997\n",
      " Arithmetic Mean of book_average_rating\n",
      "3.951456030754445\n",
      " Arithmetic Mean of score\n",
      "3893.028482809838\n",
      " Harmonic Mean of author_average_rating\n",
      "3.9453569163400863\n",
      " Harmonic Mean of book_average_rating\n",
      "0\n",
      " Harmonic Mean of score\n",
      "1020.8250038579203\n",
      " Geometric Mean of author_average_rating\n",
      "3.9529474577562675\n",
      " Geometric Mean of book_average_rating\n",
      "0.0\n",
      " Geometric Mean of score\n",
      "1813.3712522368144\n",
      "Interquartile range of author_average_rating\n",
      "0.31000000000000005\n",
      "Interquartile range of book_average_rating\n",
      "0.36999999999999966\n",
      "Interquartile range of score\n",
      "2765.5\n"
     ]
    },
    {
     "name": "stderr",
     "output_type": "stream",
     "text": [
      "C:\\Users\\mukes\\Anaconda3\\lib\\site-packages\\scipy\\stats\\stats.py:305: RuntimeWarning: divide by zero encountered in log\n",
      "  log_a = np.log(np.array(a, dtype=dtype))\n"
     ]
    }
   ],
   "source": [
    "import statistics as st\n",
    "import pandas as pd\n",
    "from scipy import stats\n",
    "import numpy as np\n",
    "import matplotlib.pyplot as plt\n",
    "da=pd.read_csv(\"D:/Data Analysis/good_reads_final.csv\")\n",
    "df=pd.DataFrame(da)\n",
    "print(\" Arithmetic Mean of author_average_rating\")\n",
    "print(st.mean(df.author_average_rating))\n",
    "print(\" Arithmetic Mean of book_average_rating\")\n",
    "print(st.mean(df.book_average_rating))\n",
    "print(\" Arithmetic Mean of score\")\n",
    "print(st.mean(df.score))\n",
    "print(\" Harmonic Mean of author_average_rating\")\n",
    "print(st.harmonic_mean(df.author_average_rating))\n",
    "print(\" Harmonic Mean of book_average_rating\")\n",
    "print(st.harmonic_mean(df.book_average_rating))\n",
    "print(\" Harmonic Mean of score\")\n",
    "print(st.harmonic_mean(df.score))\n",
    "print(\" Geometric Mean of author_average_rating\")\n",
    "print(stats.gmean(df.author_average_rating))\n",
    "print(\" Geometric Mean of book_average_rating\")\n",
    "print(stats.gmean(df.book_average_rating))\n",
    "print(\" Geometric Mean of score\")\n",
    "print(stats.gmean(df.score))\n",
    "print(\"Interquartile range of author_average_rating\")\n",
    "print(stats.iqr(df.author_average_rating))\n",
    "print(\"Interquartile range of book_average_rating\")\n",
    "print(stats.iqr(df.book_average_rating))\n",
    "print(\"Interquartile range of score\")\n",
    "print(stats.iqr(df.score))\n"
   ]
  },
  {
   "cell_type": "code",
   "execution_count": null,
   "metadata": {},
   "outputs": [],
   "source": []
  }
 ],
 "metadata": {
  "kernelspec": {
   "display_name": "Python 3",
   "language": "python",
   "name": "python3"
  },
  "language_info": {
   "codemirror_mode": {
    "name": "ipython",
    "version": 3
   },
   "file_extension": ".py",
   "mimetype": "text/x-python",
   "name": "python",
   "nbconvert_exporter": "python",
   "pygments_lexer": "ipython3",
   "version": "3.7.1"
  }
 },
 "nbformat": 4,
 "nbformat_minor": 2
}
