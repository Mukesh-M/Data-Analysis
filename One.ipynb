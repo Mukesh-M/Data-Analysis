{
 "cells": [
  {
   "cell_type": "code",
   "execution_count": 286,
   "metadata": {},
   "outputs": [],
   "source": [
    "import numpy as np  \n",
    "import pandas as pd  \n",
    "import matplotlib.pyplot as plt\n",
    "import statistics\n",
    "from scipy import stats\n",
    "from collections import Counter"
   ]
  },
  {
   "cell_type": "code",
   "execution_count": 287,
   "metadata": {},
   "outputs": [],
   "source": [
    "df = pd.read_csv(\"D:/Data Analysis/good_reads_final.csv\")"
   ]
  },
  {
   "cell_type": "code",
   "execution_count": 288,
   "metadata": {
    "scrolled": true
   },
   "outputs": [
    {
     "data": {
      "text/html": [
       "<div>\n",
       "<style scoped>\n",
       "    .dataframe tbody tr th:only-of-type {\n",
       "        vertical-align: middle;\n",
       "    }\n",
       "\n",
       "    .dataframe tbody tr th {\n",
       "        vertical-align: top;\n",
       "    }\n",
       "\n",
       "    .dataframe thead th {\n",
       "        text-align: right;\n",
       "    }\n",
       "</style>\n",
       "<table border=\"1\" class=\"dataframe\">\n",
       "  <thead>\n",
       "    <tr style=\"text-align: right;\">\n",
       "      <th></th>\n",
       "      <th>author_average_rating</th>\n",
       "      <th>author_id</th>\n",
       "      <th>author_rating_count</th>\n",
       "      <th>author_review_count</th>\n",
       "      <th>book_average_rating</th>\n",
       "      <th>num_ratings</th>\n",
       "      <th>num_reviews</th>\n",
       "      <th>score</th>\n",
       "    </tr>\n",
       "  </thead>\n",
       "  <tbody>\n",
       "    <tr>\n",
       "      <th>count</th>\n",
       "      <td>22891.000000</td>\n",
       "      <td>2.289100e+04</td>\n",
       "      <td>2.289100e+04</td>\n",
       "      <td>22891.000000</td>\n",
       "      <td>22891.000000</td>\n",
       "      <td>2.289100e+04</td>\n",
       "      <td>22891.000000</td>\n",
       "      <td>22891.000000</td>\n",
       "    </tr>\n",
       "    <tr>\n",
       "      <th>mean</th>\n",
       "      <td>3.960368</td>\n",
       "      <td>3.233957e+06</td>\n",
       "      <td>1.720319e+05</td>\n",
       "      <td>9369.795640</td>\n",
       "      <td>3.951456</td>\n",
       "      <td>4.668349e+04</td>\n",
       "      <td>2324.754794</td>\n",
       "      <td>3893.028483</td>\n",
       "    </tr>\n",
       "    <tr>\n",
       "      <th>std</th>\n",
       "      <td>0.240421</td>\n",
       "      <td>3.868091e+06</td>\n",
       "      <td>6.546902e+05</td>\n",
       "      <td>24949.832609</td>\n",
       "      <td>0.291317</td>\n",
       "      <td>1.800698e+05</td>\n",
       "      <td>6837.503574</td>\n",
       "      <td>11022.018268</td>\n",
       "    </tr>\n",
       "    <tr>\n",
       "      <th>min</th>\n",
       "      <td>1.820000</td>\n",
       "      <td>4.000000e+00</td>\n",
       "      <td>6.000000e+00</td>\n",
       "      <td>0.000000</td>\n",
       "      <td>0.000000</td>\n",
       "      <td>0.000000e+00</td>\n",
       "      <td>0.000000</td>\n",
       "      <td>55.000000</td>\n",
       "    </tr>\n",
       "    <tr>\n",
       "      <th>25%</th>\n",
       "      <td>3.810000</td>\n",
       "      <td>4.083550e+04</td>\n",
       "      <td>4.324500e+03</td>\n",
       "      <td>545.000000</td>\n",
       "      <td>3.770000</td>\n",
       "      <td>8.200000e+02</td>\n",
       "      <td>106.000000</td>\n",
       "      <td>832.000000</td>\n",
       "    </tr>\n",
       "    <tr>\n",
       "      <th>50%</th>\n",
       "      <td>3.970000</td>\n",
       "      <td>1.415543e+06</td>\n",
       "      <td>2.463500e+04</td>\n",
       "      <td>2273.000000</td>\n",
       "      <td>3.960000</td>\n",
       "      <td>4.403000e+03</td>\n",
       "      <td>384.000000</td>\n",
       "      <td>1727.000000</td>\n",
       "    </tr>\n",
       "    <tr>\n",
       "      <th>75%</th>\n",
       "      <td>4.120000</td>\n",
       "      <td>5.775601e+06</td>\n",
       "      <td>1.113370e+05</td>\n",
       "      <td>8262.500000</td>\n",
       "      <td>4.140000</td>\n",
       "      <td>2.014300e+04</td>\n",
       "      <td>1504.000000</td>\n",
       "      <td>3597.500000</td>\n",
       "    </tr>\n",
       "    <tr>\n",
       "      <th>max</th>\n",
       "      <td>5.000000</td>\n",
       "      <td>1.877045e+07</td>\n",
       "      <td>2.111732e+07</td>\n",
       "      <td>516745.000000</td>\n",
       "      <td>5.000000</td>\n",
       "      <td>3.820921e+06</td>\n",
       "      <td>147696.000000</td>\n",
       "      <td>598270.000000</td>\n",
       "    </tr>\n",
       "  </tbody>\n",
       "</table>\n",
       "</div>"
      ],
      "text/plain": [
       "       author_average_rating     author_id  author_rating_count  \\\n",
       "count           22891.000000  2.289100e+04         2.289100e+04   \n",
       "mean                3.960368  3.233957e+06         1.720319e+05   \n",
       "std                 0.240421  3.868091e+06         6.546902e+05   \n",
       "min                 1.820000  4.000000e+00         6.000000e+00   \n",
       "25%                 3.810000  4.083550e+04         4.324500e+03   \n",
       "50%                 3.970000  1.415543e+06         2.463500e+04   \n",
       "75%                 4.120000  5.775601e+06         1.113370e+05   \n",
       "max                 5.000000  1.877045e+07         2.111732e+07   \n",
       "\n",
       "       author_review_count  book_average_rating   num_ratings    num_reviews  \\\n",
       "count         22891.000000         22891.000000  2.289100e+04   22891.000000   \n",
       "mean           9369.795640             3.951456  4.668349e+04    2324.754794   \n",
       "std           24949.832609             0.291317  1.800698e+05    6837.503574   \n",
       "min               0.000000             0.000000  0.000000e+00       0.000000   \n",
       "25%             545.000000             3.770000  8.200000e+02     106.000000   \n",
       "50%            2273.000000             3.960000  4.403000e+03     384.000000   \n",
       "75%            8262.500000             4.140000  2.014300e+04    1504.000000   \n",
       "max          516745.000000             5.000000  3.820921e+06  147696.000000   \n",
       "\n",
       "               score  \n",
       "count   22891.000000  \n",
       "mean     3893.028483  \n",
       "std     11022.018268  \n",
       "min        55.000000  \n",
       "25%       832.000000  \n",
       "50%      1727.000000  \n",
       "75%      3597.500000  \n",
       "max    598270.000000  "
      ]
     },
     "execution_count": 288,
     "metadata": {},
     "output_type": "execute_result"
    }
   ],
   "source": [
    "df.describe()"
   ]
  },
  {
   "cell_type": "code",
   "execution_count": 289,
   "metadata": {},
   "outputs": [
    {
     "data": {
      "text/html": [
       "<div>\n",
       "<style scoped>\n",
       "    .dataframe tbody tr th:only-of-type {\n",
       "        vertical-align: middle;\n",
       "    }\n",
       "\n",
       "    .dataframe tbody tr th {\n",
       "        vertical-align: top;\n",
       "    }\n",
       "\n",
       "    .dataframe thead th {\n",
       "        text-align: right;\n",
       "    }\n",
       "</style>\n",
       "<table border=\"1\" class=\"dataframe\">\n",
       "  <thead>\n",
       "    <tr style=\"text-align: right;\">\n",
       "      <th></th>\n",
       "      <th>author_average_rating</th>\n",
       "      <th>author_gender</th>\n",
       "      <th>author_genres</th>\n",
       "      <th>author_id</th>\n",
       "      <th>author_name</th>\n",
       "      <th>author_page_url</th>\n",
       "      <th>author_rating_count</th>\n",
       "      <th>author_review_count</th>\n",
       "      <th>birthplace</th>\n",
       "      <th>book_average_rating</th>\n",
       "      <th>book_fullurl</th>\n",
       "      <th>book_id</th>\n",
       "      <th>book_title</th>\n",
       "      <th>genre_1</th>\n",
       "      <th>genre_2</th>\n",
       "      <th>num_ratings</th>\n",
       "      <th>num_reviews</th>\n",
       "      <th>pages</th>\n",
       "      <th>publish_date</th>\n",
       "      <th>score</th>\n",
       "    </tr>\n",
       "  </thead>\n",
       "  <tbody>\n",
       "    <tr>\n",
       "      <th>0</th>\n",
       "      <td>4.01</td>\n",
       "      <td>female</td>\n",
       "      <td>historical-fiction,</td>\n",
       "      <td>74489</td>\n",
       "      <td>Victoria Thompson\\n</td>\n",
       "      <td>/author/show/74489.Victoria_Thompson</td>\n",
       "      <td>74399</td>\n",
       "      <td>6268</td>\n",
       "      <td>United States\\n</td>\n",
       "      <td>4.02</td>\n",
       "      <td>https://www.goodreads.com/book/show/686717.Mur...</td>\n",
       "      <td>686717</td>\n",
       "      <td>\\n      Murder on St. Mark's Place\\n</td>\n",
       "      <td>Mystery</td>\n",
       "      <td>Historical</td>\n",
       "      <td>5260</td>\n",
       "      <td>375</td>\n",
       "      <td>277</td>\n",
       "      <td>2000</td>\n",
       "      <td>3230</td>\n",
       "    </tr>\n",
       "    <tr>\n",
       "      <th>1</th>\n",
       "      <td>4.15</td>\n",
       "      <td>male</td>\n",
       "      <td>literature-fiction,mystery-thrillers,</td>\n",
       "      <td>706255</td>\n",
       "      <td>Stieg Larsson\\n</td>\n",
       "      <td>/author/show/706255.Stieg_Larsson</td>\n",
       "      <td>3726435</td>\n",
       "      <td>142704</td>\n",
       "      <td>Sweden\\n</td>\n",
       "      <td>4.13</td>\n",
       "      <td>https://www.goodreads.com/book/show/2429135.Th...</td>\n",
       "      <td>2429135</td>\n",
       "      <td>\\n      The Girl with the Dragon Tattoo\\n</td>\n",
       "      <td>Fiction</td>\n",
       "      <td>Mystery</td>\n",
       "      <td>2229163</td>\n",
       "      <td>65227</td>\n",
       "      <td>465</td>\n",
       "      <td>August 2005</td>\n",
       "      <td>3062</td>\n",
       "    </tr>\n",
       "    <tr>\n",
       "      <th>2</th>\n",
       "      <td>4.00</td>\n",
       "      <td>female</td>\n",
       "      <td>romance,</td>\n",
       "      <td>5618190</td>\n",
       "      <td>Mimi Jean Pamfiloff\\n</td>\n",
       "      <td>/author/show/5618190.Mimi_Jean_Pamfiloff</td>\n",
       "      <td>76496</td>\n",
       "      <td>7975</td>\n",
       "      <td>United States\\n</td>\n",
       "      <td>3.99</td>\n",
       "      <td>https://www.goodreads.com/book/show/27833684-t...</td>\n",
       "      <td>27833684</td>\n",
       "      <td>\\n      Tailored for Trouble\\n</td>\n",
       "      <td>Romance</td>\n",
       "      <td>Contemporary</td>\n",
       "      <td>2151</td>\n",
       "      <td>391</td>\n",
       "      <td>354</td>\n",
       "      <td>2016</td>\n",
       "      <td>4585</td>\n",
       "    </tr>\n",
       "    <tr>\n",
       "      <th>3</th>\n",
       "      <td>3.88</td>\n",
       "      <td>male</td>\n",
       "      <td>fiction,memoir,</td>\n",
       "      <td>37871</td>\n",
       "      <td>José Donoso\\n</td>\n",
       "      <td>/author/show/37871.Jos_Donoso</td>\n",
       "      <td>5522</td>\n",
       "      <td>489</td>\n",
       "      <td>Chile\\n</td>\n",
       "      <td>4.14</td>\n",
       "      <td>https://www.goodreads.com/book/show/382975.The...</td>\n",
       "      <td>382975</td>\n",
       "      <td>\\n      The Obscene Bird of Night\\n</td>\n",
       "      <td>Fiction</td>\n",
       "      <td>Magical Realism</td>\n",
       "      <td>1844</td>\n",
       "      <td>173</td>\n",
       "      <td>438</td>\n",
       "      <td>1970</td>\n",
       "      <td>1533</td>\n",
       "    </tr>\n",
       "    <tr>\n",
       "      <th>4</th>\n",
       "      <td>4.10</td>\n",
       "      <td>female</td>\n",
       "      <td>young-adult,fantasy,</td>\n",
       "      <td>36122</td>\n",
       "      <td>Patricia C. Wrede\\n</td>\n",
       "      <td>/author/show/36122.Patricia_C_Wrede</td>\n",
       "      <td>291013</td>\n",
       "      <td>13453</td>\n",
       "      <td>United States\\n</td>\n",
       "      <td>4.01</td>\n",
       "      <td>https://www.goodreads.com/book/show/64207.Sorc...</td>\n",
       "      <td>64207</td>\n",
       "      <td>\\n      Sorcery &amp; Cecelia: or The Enchanted Ch...</td>\n",
       "      <td>Fantasy</td>\n",
       "      <td>Young Adult</td>\n",
       "      <td>17051</td>\n",
       "      <td>1890</td>\n",
       "      <td>326</td>\n",
       "      <td>April 15th 1988</td>\n",
       "      <td>2105</td>\n",
       "    </tr>\n",
       "    <tr>\n",
       "      <th>5</th>\n",
       "      <td>3.77</td>\n",
       "      <td>male</td>\n",
       "      <td>horror,</td>\n",
       "      <td>58947</td>\n",
       "      <td>Steve Niles\\n</td>\n",
       "      <td>/author/show/58947.Steve_Niles</td>\n",
       "      <td>47938</td>\n",
       "      <td>3240</td>\n",
       "      <td>United States\\n</td>\n",
       "      <td>3.80</td>\n",
       "      <td>https://www.goodreads.com/book/show/831829.30_...</td>\n",
       "      <td>831829</td>\n",
       "      <td>\\n      30 Days of Night, Vol. 1\\n</td>\n",
       "      <td>Sequential Art</td>\n",
       "      <td>Sequential Art</td>\n",
       "      <td>17122</td>\n",
       "      <td>561</td>\n",
       "      <td>104</td>\n",
       "      <td>January 10th 2004</td>\n",
       "      <td>4372</td>\n",
       "    </tr>\n",
       "    <tr>\n",
       "      <th>6</th>\n",
       "      <td>4.16</td>\n",
       "      <td>female</td>\n",
       "      <td>romance,</td>\n",
       "      <td>4833990</td>\n",
       "      <td>Jillian Dodd\\n</td>\n",
       "      <td>/author/show/4833990.Jillian_Dodd</td>\n",
       "      <td>110522</td>\n",
       "      <td>9451</td>\n",
       "      <td>\\n</td>\n",
       "      <td>3.95</td>\n",
       "      <td>https://www.goodreads.com/book/show/34804503-s...</td>\n",
       "      <td>34804503</td>\n",
       "      <td>\\n      Stalk Me\\n</td>\n",
       "      <td>Young Adult</td>\n",
       "      <td>Romance</td>\n",
       "      <td>11684</td>\n",
       "      <td>1107</td>\n",
       "      <td>327</td>\n",
       "      <td>August 20th 2012</td>\n",
       "      <td>2396</td>\n",
       "    </tr>\n",
       "    <tr>\n",
       "      <th>7</th>\n",
       "      <td>3.94</td>\n",
       "      <td>female</td>\n",
       "      <td>nonfiction,</td>\n",
       "      <td>7956</td>\n",
       "      <td>Mary Roach\\n</td>\n",
       "      <td>/author/show/7956.Mary_Roach</td>\n",
       "      <td>321197</td>\n",
       "      <td>29747</td>\n",
       "      <td>United States\\n</td>\n",
       "      <td>3.84</td>\n",
       "      <td>https://www.goodreads.com/book/show/5981308-bonk</td>\n",
       "      <td>5981308</td>\n",
       "      <td>\\n      Bonk: The Curious Coupling of Science ...</td>\n",
       "      <td>Nonfiction</td>\n",
       "      <td>Science</td>\n",
       "      <td>45963</td>\n",
       "      <td>4268</td>\n",
       "      <td>319</td>\n",
       "      <td>2008</td>\n",
       "      <td>2054</td>\n",
       "    </tr>\n",
       "    <tr>\n",
       "      <th>8</th>\n",
       "      <td>3.78</td>\n",
       "      <td>female</td>\n",
       "      <td>fantasy,</td>\n",
       "      <td>155651</td>\n",
       "      <td>Nancy Baker\\n</td>\n",
       "      <td>/author/show/155651.Nancy_Baker</td>\n",
       "      <td>1019</td>\n",
       "      <td>104</td>\n",
       "      <td>\\n  Canada\\n</td>\n",
       "      <td>3.77</td>\n",
       "      <td>https://www.goodreads.com/book/show/266600.Kis...</td>\n",
       "      <td>266600</td>\n",
       "      <td>\\n      Kiss of the Vampire\\n</td>\n",
       "      <td>Paranormal</td>\n",
       "      <td>Horror</td>\n",
       "      <td>594</td>\n",
       "      <td>42</td>\n",
       "      <td>278</td>\n",
       "      <td>January 1st 1993</td>\n",
       "      <td>1311</td>\n",
       "    </tr>\n",
       "    <tr>\n",
       "      <th>9</th>\n",
       "      <td>4.08</td>\n",
       "      <td>female</td>\n",
       "      <td>young-adult,</td>\n",
       "      <td>274533</td>\n",
       "      <td>Simone Elkeles\\n</td>\n",
       "      <td>/author/show/274533.Simone_Elkeles</td>\n",
       "      <td>481114</td>\n",
       "      <td>25166</td>\n",
       "      <td>United States\\n</td>\n",
       "      <td>4.01</td>\n",
       "      <td>https://www.goodreads.com/book/show/544424.Lea...</td>\n",
       "      <td>544424</td>\n",
       "      <td>\\n      Leaving Paradise\\n</td>\n",
       "      <td>Young Adult</td>\n",
       "      <td>Romance</td>\n",
       "      <td>40093</td>\n",
       "      <td>2375</td>\n",
       "      <td>303</td>\n",
       "      <td>April 1st 2007</td>\n",
       "      <td>1994</td>\n",
       "    </tr>\n",
       "  </tbody>\n",
       "</table>\n",
       "</div>"
      ],
      "text/plain": [
       "   author_average_rating author_gender                          author_genres  \\\n",
       "0                   4.01        female                    historical-fiction,   \n",
       "1                   4.15          male  literature-fiction,mystery-thrillers,   \n",
       "2                   4.00        female                               romance,   \n",
       "3                   3.88          male                        fiction,memoir,   \n",
       "4                   4.10        female                   young-adult,fantasy,   \n",
       "5                   3.77          male                                horror,   \n",
       "6                   4.16        female                               romance,   \n",
       "7                   3.94        female                            nonfiction,   \n",
       "8                   3.78        female                               fantasy,   \n",
       "9                   4.08        female                           young-adult,   \n",
       "\n",
       "   author_id            author_name                           author_page_url  \\\n",
       "0      74489    Victoria Thompson\\n      /author/show/74489.Victoria_Thompson   \n",
       "1     706255        Stieg Larsson\\n         /author/show/706255.Stieg_Larsson   \n",
       "2    5618190  Mimi Jean Pamfiloff\\n  /author/show/5618190.Mimi_Jean_Pamfiloff   \n",
       "3      37871          José Donoso\\n             /author/show/37871.Jos_Donoso   \n",
       "4      36122    Patricia C. Wrede\\n       /author/show/36122.Patricia_C_Wrede   \n",
       "5      58947          Steve Niles\\n            /author/show/58947.Steve_Niles   \n",
       "6    4833990         Jillian Dodd\\n         /author/show/4833990.Jillian_Dodd   \n",
       "7       7956           Mary Roach\\n              /author/show/7956.Mary_Roach   \n",
       "8     155651          Nancy Baker\\n           /author/show/155651.Nancy_Baker   \n",
       "9     274533       Simone Elkeles\\n        /author/show/274533.Simone_Elkeles   \n",
       "\n",
       "   author_rating_count  author_review_count            birthplace  \\\n",
       "0                74399                 6268   United States\\n       \n",
       "1              3726435               142704          Sweden\\n       \n",
       "2                76496                 7975     United States\\n     \n",
       "3                 5522                  489           Chile\\n       \n",
       "4               291013                13453   United States\\n       \n",
       "5                47938                 3240   United States\\n       \n",
       "6               110522                 9451                  \\n     \n",
       "7               321197                29747     United States\\n     \n",
       "8                 1019                  104        \\n  Canada\\n     \n",
       "9               481114                25166     United States\\n     \n",
       "\n",
       "   book_average_rating                                       book_fullurl  \\\n",
       "0                 4.02  https://www.goodreads.com/book/show/686717.Mur...   \n",
       "1                 4.13  https://www.goodreads.com/book/show/2429135.Th...   \n",
       "2                 3.99  https://www.goodreads.com/book/show/27833684-t...   \n",
       "3                 4.14  https://www.goodreads.com/book/show/382975.The...   \n",
       "4                 4.01  https://www.goodreads.com/book/show/64207.Sorc...   \n",
       "5                 3.80  https://www.goodreads.com/book/show/831829.30_...   \n",
       "6                 3.95  https://www.goodreads.com/book/show/34804503-s...   \n",
       "7                 3.84   https://www.goodreads.com/book/show/5981308-bonk   \n",
       "8                 3.77  https://www.goodreads.com/book/show/266600.Kis...   \n",
       "9                 4.01  https://www.goodreads.com/book/show/544424.Lea...   \n",
       "\n",
       "    book_id                                         book_title  \\\n",
       "0    686717               \\n      Murder on St. Mark's Place\\n   \n",
       "1   2429135          \\n      The Girl with the Dragon Tattoo\\n   \n",
       "2  27833684                     \\n      Tailored for Trouble\\n   \n",
       "3    382975                \\n      The Obscene Bird of Night\\n   \n",
       "4     64207  \\n      Sorcery & Cecelia: or The Enchanted Ch...   \n",
       "5    831829                 \\n      30 Days of Night, Vol. 1\\n   \n",
       "6  34804503                                 \\n      Stalk Me\\n   \n",
       "7   5981308  \\n      Bonk: The Curious Coupling of Science ...   \n",
       "8    266600                      \\n      Kiss of the Vampire\\n   \n",
       "9    544424                         \\n      Leaving Paradise\\n   \n",
       "\n",
       "          genre_1          genre_2  num_ratings  num_reviews pages  \\\n",
       "0         Mystery       Historical         5260          375   277   \n",
       "1         Fiction          Mystery      2229163        65227   465   \n",
       "2         Romance     Contemporary         2151          391   354   \n",
       "3         Fiction  Magical Realism         1844          173   438   \n",
       "4         Fantasy      Young Adult        17051         1890   326   \n",
       "5  Sequential Art   Sequential Art        17122          561   104   \n",
       "6     Young Adult          Romance        11684         1107   327   \n",
       "7      Nonfiction          Science        45963         4268   319   \n",
       "8      Paranormal           Horror          594           42   278   \n",
       "9     Young Adult          Romance        40093         2375   303   \n",
       "\n",
       "        publish_date  score  \n",
       "0               2000   3230  \n",
       "1        August 2005   3062  \n",
       "2               2016   4585  \n",
       "3               1970   1533  \n",
       "4    April 15th 1988   2105  \n",
       "5  January 10th 2004   4372  \n",
       "6   August 20th 2012   2396  \n",
       "7               2008   2054  \n",
       "8   January 1st 1993   1311  \n",
       "9     April 1st 2007   1994  "
      ]
     },
     "execution_count": 289,
     "metadata": {},
     "output_type": "execute_result"
    }
   ],
   "source": [
    "df.head(10)"
   ]
  },
  {
   "cell_type": "code",
   "execution_count": 290,
   "metadata": {},
   "outputs": [
    {
     "data": {
      "text/plain": [
       "array([[<matplotlib.axes._subplots.AxesSubplot object at 0x000001D10C5E6F98>,\n",
       "        <matplotlib.axes._subplots.AxesSubplot object at 0x000001D10C742F28>,\n",
       "        <matplotlib.axes._subplots.AxesSubplot object at 0x000001D10C7651D0>],\n",
       "       [<matplotlib.axes._subplots.AxesSubplot object at 0x000001D10C782438>,\n",
       "        <matplotlib.axes._subplots.AxesSubplot object at 0x000001D10C79F6A0>,\n",
       "        <matplotlib.axes._subplots.AxesSubplot object at 0x000001D10C7BC908>],\n",
       "       [<matplotlib.axes._subplots.AxesSubplot object at 0x000001D10CC4A4E0>,\n",
       "        <matplotlib.axes._subplots.AxesSubplot object at 0x000001D10CC6F780>,\n",
       "        <matplotlib.axes._subplots.AxesSubplot object at 0x000001D10CC6F7B8>]],\n",
       "      dtype=object)"
      ]
     },
     "execution_count": 290,
     "metadata": {},
     "output_type": "execute_result"
    },
    {
     "data": {
      "image/png": "[encoded data removed]",
      "text/plain": [
       "<Figure size 720x1080 with 9 Axes>"
      ]
     },
     "metadata": {
      "needs_background": "light"
     },
     "output_type": "display_data"
    }
   ],
   "source": [
    "fig = plt.figure(figsize = (10,15))\n",
    "ax = fig.gca()\n",
    "df.hist(ax=ax,bins=10)\n",
    "#data['score'].hist(bins=10)"
   ]
  },
  {
   "cell_type": "code",
   "execution_count": 291,
   "metadata": {},
   "outputs": [
    {
     "data": {
      "text/plain": [
       "<matplotlib.axes._subplots.AxesSubplot at 0x1d10cd9e668>"
      ]
     },
     "execution_count": 291,
     "metadata": {},
     "output_type": "execute_result"
    },
    {
     "data": {
      "image/png": "[encoded data removed]",
      "text/plain": [
       "<Figure size 432x288 with 1 Axes>"
      ]
     },
     "metadata": {
      "needs_background": "light"
     },
     "output_type": "display_data"
    }
   ],
   "source": [
    "df=df.sample(n=50)\n",
    "df.plot.box()"
   ]
  },
  {
   "cell_type": "code",
   "execution_count": 292,
   "metadata": {},
   "outputs": [
    {
     "data": {
      "image/png": "[encoded data removed]",
      "text/plain": [
       "<Figure size 432x288 with 1 Axes>"
      ]
     },
     "metadata": {
      "needs_background": "light"
     },
     "output_type": "display_data"
    }
   ],
   "source": [
    "df.iloc[:20].plot.bar()\n",
    "plt.show()"
   ]
  },
  {
   "cell_type": "code",
   "execution_count": 293,
   "metadata": {},
   "outputs": [
    {
     "data": {
      "text/plain": [
       "[1, 12, 8, 2, 1, 1, 4, 2, 1, 3, 7, 1, 1, 1, 1, 1, 1, 2]"
      ]
     },
     "execution_count": 293,
     "metadata": {},
     "output_type": "execute_result"
    }
   ],
   "source": [
    "freq = {} \n",
    "for item in df.genre_1: \n",
    "        if (item in freq): \n",
    "            freq[item] += 1\n",
    "        else: \n",
    "            freq[item] = 1\n",
    "key=[x for x in freq.keys()]\n",
    "key\n",
    "value=[freq[x] for x in freq.keys()]\n",
    "value"
   ]
  },
  {
   "cell_type": "code",
   "execution_count": 294,
   "metadata": {},
   "outputs": [
    {
     "name": "stdout",
     "output_type": "stream",
     "text": [
      "Frequency Table for Genre:\n",
      "Classics              1\n",
      "New Adult             1\n",
      "Paranormal            1\n",
      "Christian Fiction     1\n",
      "Media Tie In          1\n",
      "Mythology             1\n",
      "Nonfiction            1\n",
      "Realistic Fiction     1\n",
      "Historical            1\n",
      "Horror                1\n",
      "Sequential Art        2\n",
      "Science Fiction       2\n",
      "History               2\n",
      "Fiction               3\n",
      "Mystery               4\n",
      "Romance               7\n",
      "Young Adult           8\n",
      "Fantasy              12\n",
      "Name: genre_1, dtype: int64\n",
      "\n",
      "Percentage of each genre:\n",
      "{'Media Tie In': 2.0, 'Fantasy': 24.0, 'Young Adult': 16.0, 'History': 4.0, 'Horror': 2.0, 'Nonfiction': 2.0, 'Mystery': 8.0, 'Science Fiction': 4.0, 'Classics': 2.0, 'Fiction': 6.0, 'Romance': 14.0, 'Paranormal': 2.0, 'Mythology': 2.0, 'Historical': 2.0, 'Realistic Fiction': 2.0, 'Christian Fiction': 2.0, 'New Adult': 2.0, 'Sequential Art': 4.0}\n"
     ]
    }
   ],
   "source": [
    "temp1 = df['genre_1'].value_counts(ascending=True)\n",
    "temp2 = dict(Counter(df['genre_1']))\n",
    "count_row = df.shape[0]\n",
    "for i in temp2:\n",
    "    temp2[i]=round((temp2[i]/count_row)*100,2)\n",
    "print ('Frequency Table for Genre:') \n",
    "print (temp1)\n",
    "\n",
    "print ('\\nPercentage of each genre:')\n",
    "print (temp2)"
   ]
  },
  {
   "cell_type": "code",
   "execution_count": 295,
   "metadata": {},
   "outputs": [
    {
     "data": {
      "image/png": "[encoded data removed]",
      "text/plain": [
       "<Figure size 2160x720 with 1 Axes>"
      ]
     },
     "metadata": {
      "needs_background": "light"
     },
     "output_type": "display_data"
    }
   ],
   "source": [
    "lists = sorted(temp2.items())\n",
    "fig = plt.figure(figsize=(30,10))\n",
    "ax1 = fig.add_subplot(121)\n",
    "ax1.set_xlabel('Genres')\n",
    "ax1.set_ylabel('Genres percentage')\n",
    "ax1.set_title(\"Probability of each genre\")\n",
    "x, y = zip(*lists)\n",
    "plt.bar(x, y)\n",
    "plt.show()"
   ]
  },
  {
   "cell_type": "code",
   "execution_count": 296,
   "metadata": {},
   "outputs": [
    {
     "data": {
      "image/png": "[encoded data removed]",
      "text/plain": [
       "<Figure size 432x288 with 1 Axes>"
      ]
     },
     "metadata": {},
     "output_type": "display_data"
    }
   ],
   "source": [
    "figureObject, axesObject = plt.subplots()\n",
    "\n",
    "axesObject.pie(y,labels=x,autopct='%1.2f',startangle=90)\n",
    "axesObject.axis('equal')\n",
    "plt.show()"
   ]
  },
  {
   "cell_type": "code",
   "execution_count": 297,
   "metadata": {},
   "outputs": [
    {
     "data": {
      "text/plain": [
       "author_average_rating     3.949000e+00\n",
       "author_id                 3.006360e+06\n",
       "author_rating_count       1.961838e+05\n",
       "author_review_count       1.518294e+04\n",
       "book_average_rating       3.920800e+00\n",
       "book_id                            inf\n",
       "num_ratings               6.379300e+04\n",
       "num_reviews               3.241040e+03\n",
       "pages                    1.410609e+147\n",
       "score                     5.777460e+03\n",
       "dtype: float64"
      ]
     },
     "execution_count": 297,
     "metadata": {},
     "output_type": "execute_result"
    }
   ],
   "source": [
    "df.mean()"
   ]
  },
  {
   "cell_type": "code",
   "execution_count": 298,
   "metadata": {},
   "outputs": [
    {
     "data": {
      "image/png": "[encoded data removed]",
      "text/plain": [
       "<Figure size 2160x720 with 1 Axes>"
      ]
     },
     "metadata": {
      "needs_background": "light"
     },
     "output_type": "display_data"
    }
   ],
   "source": [
    "lists = sorted(temp2.items())\n",
    "fig = plt.figure(figsize=(30,10))\n",
    "ax1 = fig.add_subplot(121)\n",
    "ax1.set_xlabel('Genres')\n",
    "ax1.set_ylabel('Genres percentage')\n",
    "ax1.set_title(\"Probability of each genre\")\n",
    "x, y = zip(*lists)\n",
    "plt.scatter(x, y)\n",
    "plt.show()"
   ]
  },
  {
   "cell_type": "code",
   "execution_count": 299,
   "metadata": {},
   "outputs": [
    {
     "data": {
      "text/plain": [
       "2929.0523552812683"
      ]
     },
     "execution_count": 299,
     "metadata": {},
     "output_type": "execute_result"
    }
   ],
   "source": [
    "# Geometric Mean \n",
    "import math\n",
    "\n",
    "def geomean(xs):\n",
    "    return math.exp(math.fsum(math.log(x) for x in xs)/ len(xs))\n",
    "\n",
    "geomean(df.score)"
   ]
  },
  {
   "cell_type": "code",
   "execution_count": 300,
   "metadata": {},
   "outputs": [
    {
     "name": "stdout",
     "output_type": "stream",
     "text": [
      "Arithmetic mean: 5777.46\n"
     ]
    }
   ],
   "source": [
    "list1=list(df['score'])\n",
    "cleanedList = [x for x in list1 if str(x) != 'nan']\n",
    "mean_ar=sum(cleanedList)/len(cleanedList)\n",
    "print('Arithmetic mean:',mean_ar)"
   ]
  },
  {
   "cell_type": "code",
   "execution_count": 301,
   "metadata": {},
   "outputs": [
    {
     "name": "stdout",
     "output_type": "stream",
     "text": [
      "gmean is 2710.617642921079\n",
      "hmean is 2523.1383561472812\n"
     ]
    }
   ],
   "source": [
    "gmean=stats.gmean(data.score)\n",
    "print(\"gmean is\",gmean)\n",
    "hmean=stats.hmean(data.score)\n",
    "print(\"hmean is\",hmean)"
   ]
  },
  {
   "cell_type": "code",
   "execution_count": null,
   "metadata": {},
   "outputs": [],
   "source": []
  },
  {
   "cell_type": "code",
   "execution_count": null,
   "metadata": {},
   "outputs": [],
   "source": []
  }
 ],
 "metadata": {
  "kernelspec": {
   "display_name": "Python 3",
   "language": "python",
   "name": "python3"
  },
  "language_info": {
   "codemirror_mode": {
    "name": "ipython",
    "version": 3
   },
   "file_extension": ".py",
   "mimetype": "text/x-python",
   "name": "python",
   "nbconvert_exporter": "python",
   "pygments_lexer": "ipython3",
   "version": "3.7.1"
  }
 },
 "nbformat": 4,
 "nbformat_minor": 2
}
